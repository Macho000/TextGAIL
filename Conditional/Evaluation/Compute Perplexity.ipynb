{
 "cells": [
  {
   "cell_type": "code",
   "execution_count": 20,
   "metadata": {},
   "outputs": [],
   "source": [
    "import hydra\n",
    "import hydra.experimental\n",
    "import numpy as np\n",
    "import tqdm\n",
    "import json\n",
    "import torch\n",
    "import torch.nn as nn\n",
    "import torch.nn.functional as F\n",
    "from transformers import RobertaTokenizer\n",
    "from omegaconf import DictConfig\n",
    "\n",
    "from torchfly.text.decode import TransformerDecoder\n",
    "from torchfly.common import set_random_seed, move_to_device\n",
    "\n",
    "from configure_dataloader import DataLoaderHandler\n",
    "from model import Generator, TextGAILModel\n",
    "\n",
    "import logging\n",
    "import matplotlib.pyplot as plt\n",
    "import matplotlib"
   ]
  },
  {
   "cell_type": "code",
   "execution_count": 21,
   "metadata": {},
   "outputs": [
    {
     "data": {
      "text/plain": [
       "12"
      ]
     },
     "execution_count": 21,
     "metadata": {},
     "output_type": "execute_result"
    }
   ],
   "source": [
    "set_random_seed(12)"
   ]
  },
  {
   "cell_type": "code",
   "execution_count": 22,
   "metadata": {},
   "outputs": [
    {
     "ename": "ValueError",
     "evalue": "GlobalHydra is already initialized, call GlobalHydra.instance().clear() if you want to re-initialize",
     "output_type": "error",
     "traceback": [
      "\u001b[0;31m---------------------------------------------------------------------------\u001b[0m",
      "\u001b[0;31mValueError\u001b[0m                                Traceback (most recent call last)",
      "\u001b[0;32m/tmp/ipykernel_18168/3948467605.py\u001b[0m in \u001b[0;36m<module>\u001b[0;34m\u001b[0m\n\u001b[0;32m----> 1\u001b[0;31m \u001b[0mhydra\u001b[0m\u001b[0;34m.\u001b[0m\u001b[0mexperimental\u001b[0m\u001b[0;34m.\u001b[0m\u001b[0minitialize\u001b[0m\u001b[0;34m(\u001b[0m\u001b[0;34m\"config\"\u001b[0m\u001b[0;34m)\u001b[0m\u001b[0;34m\u001b[0m\u001b[0;34m\u001b[0m\u001b[0m\n\u001b[0m",
      "\u001b[0;32m~/anaconda3/envs/torchfly/lib/python3.7/site-packages/hydra/experimental/initialize.py\u001b[0m in \u001b[0;36m__init__\u001b[0;34m(self, config_path, job_name, strict, caller_stack_depth)\u001b[0m\n\u001b[1;32m     70\u001b[0m             \u001b[0mconfig_path\u001b[0m\u001b[0;34m=\u001b[0m\u001b[0mconfig_path\u001b[0m\u001b[0;34m,\u001b[0m\u001b[0;34m\u001b[0m\u001b[0;34m\u001b[0m\u001b[0m\n\u001b[1;32m     71\u001b[0m             \u001b[0mjob_name\u001b[0m\u001b[0;34m=\u001b[0m\u001b[0mjob_name\u001b[0m\u001b[0;34m,\u001b[0m\u001b[0;34m\u001b[0m\u001b[0;34m\u001b[0m\u001b[0m\n\u001b[0;32m---> 72\u001b[0;31m             \u001b[0mstrict\u001b[0m\u001b[0;34m=\u001b[0m\u001b[0mstrict\u001b[0m\u001b[0;34m,\u001b[0m\u001b[0;34m\u001b[0m\u001b[0;34m\u001b[0m\u001b[0m\n\u001b[0m\u001b[1;32m     73\u001b[0m         )\n\u001b[1;32m     74\u001b[0m \u001b[0;34m\u001b[0m\u001b[0m\n",
      "\u001b[0;32m~/anaconda3/envs/torchfly/lib/python3.7/site-packages/hydra/_internal/hydra.py\u001b[0m in \u001b[0;36mcreate_main_hydra_file_or_module\u001b[0;34m(cls, calling_file, calling_module, config_path, job_name, strict)\u001b[0m\n\u001b[1;32m     52\u001b[0m         )\n\u001b[1;32m     53\u001b[0m \u001b[0;34m\u001b[0m\u001b[0m\n\u001b[0;32m---> 54\u001b[0;31m         \u001b[0;32mreturn\u001b[0m \u001b[0mHydra\u001b[0m\u001b[0;34m.\u001b[0m\u001b[0mcreate_main_hydra2\u001b[0m\u001b[0;34m(\u001b[0m\u001b[0mjob_name\u001b[0m\u001b[0;34m,\u001b[0m \u001b[0mconfig_search_path\u001b[0m\u001b[0;34m,\u001b[0m \u001b[0mstrict\u001b[0m\u001b[0;34m)\u001b[0m\u001b[0;34m\u001b[0m\u001b[0;34m\u001b[0m\u001b[0m\n\u001b[0m\u001b[1;32m     55\u001b[0m \u001b[0;34m\u001b[0m\u001b[0m\n\u001b[1;32m     56\u001b[0m     \u001b[0;34m@\u001b[0m\u001b[0mclassmethod\u001b[0m\u001b[0;34m\u001b[0m\u001b[0;34m\u001b[0m\u001b[0m\n",
      "\u001b[0;32m~/anaconda3/envs/torchfly/lib/python3.7/site-packages/hydra/_internal/hydra.py\u001b[0m in \u001b[0;36mcreate_main_hydra2\u001b[0;34m(cls, task_name, config_search_path, strict)\u001b[0m\n\u001b[1;32m     78\u001b[0m         \u001b[0;32mfrom\u001b[0m \u001b[0mhydra\u001b[0m\u001b[0;34m.\u001b[0m\u001b[0mcore\u001b[0m\u001b[0;34m.\u001b[0m\u001b[0mglobal_hydra\u001b[0m \u001b[0;32mimport\u001b[0m \u001b[0mGlobalHydra\u001b[0m\u001b[0;34m\u001b[0m\u001b[0;34m\u001b[0m\u001b[0m\n\u001b[1;32m     79\u001b[0m \u001b[0;34m\u001b[0m\u001b[0m\n\u001b[0;32m---> 80\u001b[0;31m         \u001b[0mGlobalHydra\u001b[0m\u001b[0;34m.\u001b[0m\u001b[0minstance\u001b[0m\u001b[0;34m(\u001b[0m\u001b[0;34m)\u001b[0m\u001b[0;34m.\u001b[0m\u001b[0minitialize\u001b[0m\u001b[0;34m(\u001b[0m\u001b[0mhydra\u001b[0m\u001b[0;34m)\u001b[0m\u001b[0;34m\u001b[0m\u001b[0;34m\u001b[0m\u001b[0m\n\u001b[0m\u001b[1;32m     81\u001b[0m         \u001b[0;32mreturn\u001b[0m \u001b[0mhydra\u001b[0m\u001b[0;34m\u001b[0m\u001b[0;34m\u001b[0m\u001b[0m\n\u001b[1;32m     82\u001b[0m \u001b[0;34m\u001b[0m\u001b[0m\n",
      "\u001b[0;32m~/anaconda3/envs/torchfly/lib/python3.7/site-packages/hydra/core/global_hydra.py\u001b[0m in \u001b[0;36minitialize\u001b[0;34m(self, hydra)\u001b[0m\n\u001b[1;32m     15\u001b[0m         \u001b[0;32mif\u001b[0m \u001b[0mself\u001b[0m\u001b[0;34m.\u001b[0m\u001b[0mis_initialized\u001b[0m\u001b[0;34m(\u001b[0m\u001b[0;34m)\u001b[0m\u001b[0;34m:\u001b[0m\u001b[0;34m\u001b[0m\u001b[0;34m\u001b[0m\u001b[0m\n\u001b[1;32m     16\u001b[0m             raise ValueError(\n\u001b[0;32m---> 17\u001b[0;31m                 \u001b[0;34m\"GlobalHydra is already initialized, call GlobalHydra.instance().clear() if you want to re-initialize\"\u001b[0m\u001b[0;34m\u001b[0m\u001b[0;34m\u001b[0m\u001b[0m\n\u001b[0m\u001b[1;32m     18\u001b[0m             )\n\u001b[1;32m     19\u001b[0m         \u001b[0mself\u001b[0m\u001b[0;34m.\u001b[0m\u001b[0mhydra\u001b[0m \u001b[0;34m=\u001b[0m \u001b[0mhydra\u001b[0m\u001b[0;34m\u001b[0m\u001b[0;34m\u001b[0m\u001b[0m\n",
      "\u001b[0;31mValueError\u001b[0m: GlobalHydra is already initialized, call GlobalHydra.instance().clear() if you want to re-initialize"
     ]
    }
   ],
   "source": [
    "hydra.experimental.initialize(\"config\")"
   ]
  },
  {
   "cell_type": "code",
   "execution_count": 23,
   "metadata": {},
   "outputs": [
    {
     "name": "stdout",
     "output_type": "stream",
     "text": [
      "task:\n",
      "  name: CommonGEN\n",
      "  data_dir: ../../data/CommonGEN\n",
      "  mle_weights_path: ../MLE/outputs/CommonGEN/Checkpoints/iter_252_model_state.pth\n",
      "  textgail_weights_path: ../TextGAIL/outputs/CommonGEN/Checkpoints/iter_999_model_state.pth\n",
      "training:\n",
      "  random_seed: 1\n",
      "  num_gpus_per_node: 1\n",
      "  batch_size: 32\n",
      "  resume:\n",
      "    resume: false\n",
      "    resume_model: true\n",
      "    resume_optimizer: true\n",
      "    resume_scheduler: true\n",
      "    resume_rng_state: true\n",
      "  total_num:\n",
      "    epochs: -1\n",
      "    update_steps: 1000\n",
      "  validation:\n",
      "    steps_interval: 100\n",
      "  checkpointing:\n",
      "    directory: Checkpoints\n",
      "    steps_interval: 100\n",
      "    seconds_interval: -1\n",
      "    num_checkpoints_to_keep: 1000\n",
      "    keep_checkpoint_every_num_seconds: 86400\n",
      "  logging:\n",
      "    level: INFO\n",
      "    steps_interval: -1\n",
      "    seconds_interval: 2\n",
      "  optimization:\n",
      "    fp16: false\n",
      "    fp16_opt_level: O1\n",
      "    optimizer_name: AdamW\n",
      "    learning_rate: 1.0e-05\n",
      "    gradient_accumulation_steps: 1\n",
      "    weight_decay: 0.01\n",
      "    max_gradient_norm: -1.0\n",
      "    warmup:\n",
      "      scheduler_name: WarmupLinear\n",
      "      warmup_steps: 100\n",
      "model:\n",
      "  initializer_range: 0.02\n",
      "  layer_norm_epsilon: 1.0e-05\n",
      "  n_ctx: 1024\n",
      "  n_embd: 768\n",
      "  n_head: 12\n",
      "  n_layer: 12\n",
      "  n_positions: 1024\n",
      "  vocab_size: 50265\n",
      "  embd_pdrop: 0.0\n",
      "  resid_pdrop: 0.0\n",
      "  attn_pdrop: 0.0\n",
      "  output_attentions: false\n",
      "  output_hidden_states: false\n",
      "  output_past: true\n",
      "  pad_token_id: 1\n",
      "  name: roberta-tokenized-gpt2\n",
      "text_gail:\n",
      "  batch_size: None\n",
      "  ppo_buffer_size: 128\n",
      "  sample_batch_size: 32\n",
      "  ppo_mini_batch_size: 8\n",
      "  ppo_epoch: 1\n",
      "  ppo_epsilon: 0.2\n",
      "  mix_human_demo_init_ratio: 0.3\n",
      "  mix_human_demo_ratio_warmup_steps: 100\n",
      "  discriminator_pretrain_steps: 400\n",
      "  constant_human_demo_reward: true\n",
      "  recompute_log_probs: true\n",
      "decode:\n",
      "  num_return_sequences: 1\n",
      "  max_steps: 100\n",
      "  do_sample: true\n",
      "  num_beams: 1\n",
      "  temperature: 0.8\n",
      "  top_k: -1\n",
      "  top_p: 0.9\n",
      "  length_penalty: 1.0\n",
      "  bos_token_ids:\n",
      "  - 0\n",
      "  eos_token_ids:\n",
      "  - 2\n",
      "  output_log_probs: false\n",
      "  early_stopping: false\n",
      "  repetition_penalty: 1.0\n",
      "\n"
     ]
    }
   ],
   "source": [
    "config = hydra.experimental.compose(\"config.yaml\")\n",
    "print(config.pretty())"
   ]
  },
  {
   "cell_type": "code",
   "execution_count": 24,
   "metadata": {},
   "outputs": [],
   "source": [
    "tokenizer = RobertaTokenizer.from_pretrained(\"roberta-base\")"
   ]
  },
  {
   "cell_type": "code",
   "execution_count": 25,
   "metadata": {},
   "outputs": [],
   "source": [
    "dataloader_handler = DataLoaderHandler(config)\n",
    "test_dataloader = dataloader_handler.test_dataloader(config)\n",
    "collate_fn = test_dataloader.dataset.collate_fn"
   ]
  },
  {
   "cell_type": "code",
   "execution_count": 26,
   "metadata": {},
   "outputs": [],
   "source": [
    "device = torch.device(\"cuda\")"
   ]
  },
  {
   "cell_type": "code",
   "execution_count": 27,
   "metadata": {},
   "outputs": [],
   "source": [
    "model = TextGAILModel(config)\n",
    "model = model.cuda()"
   ]
  },
  {
   "cell_type": "code",
   "execution_count": 28,
   "metadata": {},
   "outputs": [
    {
     "name": "stdout",
     "output_type": "stream",
     "text": [
      "[0.4 0.5 0.6 0.7 0.8 0.9 1. ]\n"
     ]
    }
   ],
   "source": [
    "temperatures = (np.arange(3, 10, 1) + 1) / 10.0\n",
    "print(temperatures)"
   ]
  },
  {
   "cell_type": "markdown",
   "metadata": {},
   "source": [
    "## MLE"
   ]
  },
  {
   "cell_type": "code",
   "execution_count": 29,
   "metadata": {},
   "outputs": [
    {
     "name": "stdout",
     "output_type": "stream",
     "text": [
      "../MLE/outputs/CommonGEN/Checkpoints/iter_252_model_state.pth\n"
     ]
    },
    {
     "data": {
      "text/plain": [
       "<All keys matched successfully>"
      ]
     },
     "execution_count": 29,
     "metadata": {},
     "output_type": "execute_result"
    }
   ],
   "source": [
    "print(config.task.mle_weights_path)\n",
    "mle_weights = torch.load(config.task.mle_weights_path)\n",
    "model.generator.load_state_dict(mle_weights)"
   ]
  },
  {
   "cell_type": "code",
   "execution_count": 30,
   "metadata": {},
   "outputs": [
    {
     "name": "stderr",
     "output_type": "stream",
     "text": [
      "100%|██████████| 189/189 [00:10<00:00, 18.38it/s]\n",
      "100%|██████████| 189/189 [00:10<00:00, 18.59it/s]\n",
      "100%|██████████| 189/189 [00:10<00:00, 18.43it/s]\n",
      "100%|██████████| 189/189 [00:10<00:00, 18.31it/s]\n",
      "100%|██████████| 189/189 [00:10<00:00, 18.24it/s]\n",
      "100%|██████████| 189/189 [00:10<00:00, 18.11it/s]\n",
      "100%|██████████| 189/189 [00:10<00:00, 18.06it/s]\n"
     ]
    }
   ],
   "source": [
    "mle = []\n",
    "for temperature in temperatures:\n",
    "    for batch in tqdm.tqdm(test_dataloader):\n",
    "        batch = collate_fn(batch)\n",
    "        batch = move_to_device(batch, device)\n",
    "        batch[\"temperature\"] = temperature\n",
    "\n",
    "        model.predict(batch)\n",
    "    metrics = model.get_metrics(reset=True)\n",
    "    mle.append(metrics['perplexity'])"
   ]
  },
  {
   "cell_type": "code",
   "execution_count": 31,
   "metadata": {},
   "outputs": [
    {
     "name": "stdout",
     "output_type": "stream",
     "text": [
      "[76.83318922254774, 36.25436051686605, 22.868459979062358, 17.143013338563303, 14.443468643874718, 13.284154654810669, 13.109475489015933]\n"
     ]
    }
   ],
   "source": [
    "print(mle)"
   ]
  },
  {
   "cell_type": "markdown",
   "metadata": {},
   "source": [
    "## TextGAIL"
   ]
  },
  {
   "cell_type": "code",
   "execution_count": 32,
   "metadata": {},
   "outputs": [
    {
     "name": "stdout",
     "output_type": "stream",
     "text": [
      "../TextGAIL/outputs/CommonGEN/Checkpoints/iter_999_model_state.pth\n"
     ]
    }
   ],
   "source": [
    "print(config.task.textgail_weights_path)"
   ]
  },
  {
   "cell_type": "code",
   "execution_count": 33,
   "metadata": {},
   "outputs": [
    {
     "data": {
      "text/plain": [
       "<All keys matched successfully>"
      ]
     },
     "execution_count": 33,
     "metadata": {},
     "output_type": "execute_result"
    }
   ],
   "source": [
    "textgail_weights = torch.load(config.task.textgail_weights_path)\n",
    "model.load_state_dict(textgail_weights)"
   ]
  },
  {
   "cell_type": "code",
   "execution_count": 34,
   "metadata": {},
   "outputs": [
    {
     "name": "stderr",
     "output_type": "stream",
     "text": [
      "100%|██████████| 189/189 [00:10<00:00, 18.11it/s]\n",
      "100%|██████████| 189/189 [00:10<00:00, 18.17it/s]\n",
      "100%|██████████| 189/189 [00:10<00:00, 18.10it/s]\n",
      "100%|██████████| 189/189 [00:10<00:00, 18.04it/s]\n",
      "100%|██████████| 189/189 [00:10<00:00, 18.01it/s]\n",
      "100%|██████████| 189/189 [00:10<00:00, 18.00it/s]\n",
      "100%|██████████| 189/189 [00:10<00:00, 18.00it/s]\n"
     ]
    }
   ],
   "source": [
    "textgail = []\n",
    "for temperature in temperatures:\n",
    "    for batch in tqdm.tqdm(test_dataloader):\n",
    "        batch = collate_fn(batch)\n",
    "        batch = move_to_device(batch, device)\n",
    "        batch[\"temperature\"] = temperature\n",
    "\n",
    "        model.predict(batch)\n",
    "    metrics = model.get_metrics(reset=True)\n",
    "    textgail.append(metrics['perplexity'])"
   ]
  },
  {
   "cell_type": "code",
   "execution_count": 35,
   "metadata": {},
   "outputs": [
    {
     "name": "stdout",
     "output_type": "stream",
     "text": [
      "[44.69564094745293, 34.28710946582613, 31.955918165741775, 33.39864908450495, 37.68774115345465, 44.91093532622806, 55.631181636184614]\n"
     ]
    }
   ],
   "source": [
    "print(textgail)"
   ]
  },
  {
   "cell_type": "markdown",
   "metadata": {},
   "source": [
    "## Plot"
   ]
  },
  {
   "cell_type": "code",
   "execution_count": 38,
   "metadata": {},
   "outputs": [],
   "source": [
    "# write results\n",
    "with open(f\"{config.task.name}_perplexity.txt\", \"w\") as f:\n",
    "    line = json.dumps({\"mle\": mle, \"textgail\": textgail})\n",
    "    f.write(line)\n",
    "    f.write(\"\\n\")"
   ]
  },
  {
   "cell_type": "code",
   "execution_count": 36,
   "metadata": {},
   "outputs": [],
   "source": [
    "config.task.name = \"CommonGEN\""
   ]
  },
  {
   "cell_type": "code",
   "execution_count": 39,
   "metadata": {},
   "outputs": [],
   "source": [
    "with open(f\"{config.task.name}_perplexity.txt\") as f:\n",
    "    line = f.readline()\n",
    "    line = json.loads(line)\n",
    "    mle = line[\"mle\"]\n",
    "    textgail = line[\"textgail\"]"
   ]
  },
  {
   "cell_type": "code",
   "execution_count": 40,
   "metadata": {},
   "outputs": [],
   "source": [
    "from matplotlib.ticker import MultipleLocator, FormatStrFormatter"
   ]
  },
  {
   "cell_type": "code",
   "execution_count": 41,
   "metadata": {},
   "outputs": [
    {
     "data": {
      "image/png": "[encoded data removed]",
      "text/plain": [
       "<Figure size 432x288 with 1 Axes>"
      ]
     },
     "metadata": {
      "needs_background": "light"
     },
     "output_type": "display_data"
    }
   ],
   "source": [
    "fig=plt.figure()\n",
    "ax = fig.add_subplot(111)\n",
    "matplotlib.rcParams.update({'font.size': 16})\n",
    "\n",
    "ax.plot(temperatures, mle, marker=\"o\", color=\"r\", ls=\"--\")\n",
    "ax.plot(temperatures, textgail, marker=\"*\", color=\"b\")\n",
    "ax.legend([\"GPT-2+MLE\", \"TextGAIL\"])\n",
    "ax.set_xlabel(\"Temperature\", fontsize=18)\n",
    "ax.set_ylabel(\"Perplexity\", fontsize=18)\n",
    "ax.set_title(f\"Perplexity vs. Temperature\")\n",
    "\n",
    "major_ticks = np.arange(10, 100, 20)\n",
    "ax.set_yticks(major_ticks)\n",
    "ax.set_xticks(temperatures)\n",
    "\n",
    "ax.grid(\"on\")\n",
    "\n",
    "plt.savefig(f\"{config.task.name} perplexity.png\", dpi=300, pad_inches=0.1, bbox_inches='tight')"
   ]
  },
  {
   "cell_type": "code",
   "execution_count": null,
   "metadata": {},
   "outputs": [],
   "source": []
  },
  {
   "cell_type": "code",
   "execution_count": null,
   "metadata": {},
   "outputs": [],
   "source": []
  },
  {
   "cell_type": "code",
   "execution_count": null,
   "metadata": {},
   "outputs": [],
   "source": []
  },
  {
   "cell_type": "code",
   "execution_count": null,
   "metadata": {},
   "outputs": [],
   "source": []
  }
 ],
 "metadata": {
  "kernelspec": {
   "display_name": "Python 3",
   "language": "python",
   "name": "python3"
  },
  "language_info": {
   "codemirror_mode": {
    "name": "ipython",
    "version": 3
   },
   "file_extension": ".py",
   "mimetype": "text/x-python",
   "name": "python",
   "nbconvert_exporter": "python",
   "pygments_lexer": "ipython3",
   "version": "3.7.4"
  }
 },
 "nbformat": 4,
 "nbformat_minor": 4
}
