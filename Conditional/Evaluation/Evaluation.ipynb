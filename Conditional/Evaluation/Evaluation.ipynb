{
 "cells": [
  {
   "cell_type": "code",
   "execution_count": 1,
   "metadata": {},
   "outputs": [
    {
     "name": "stderr",
     "output_type": "stream",
     "text": [
      "/home/aigo/anaconda3/envs/torchfly/lib/python3.7/site-packages/tqdm/auto.py:22: TqdmWarning: IProgress not found. Please update jupyter and ipywidgets. See https://ipywidgets.readthedocs.io/en/stable/user_install.html\n",
      "  from .autonotebook import tqdm as notebook_tqdm\n"
     ]
    }
   ],
   "source": [
    "import os\n",
    "import json\n",
    "import torch\n",
    "import numpy as np\n",
    "import collections\n",
    "import tqdm\n",
    "import nltk\n",
    "from nltk.translate.bleu_score import sentence_bleu\n",
    "from nltk.util import ngrams\n",
    "\n",
    "from transformers import AutoTokenizer\n",
    "import matplotlib.pyplot as plt"
   ]
  },
  {
   "cell_type": "code",
   "execution_count": 2,
   "metadata": {},
   "outputs": [],
   "source": [
    "def clean(x):\n",
    "    x = x.strip(\"\\n\")\n",
    "    x = x.strip(\"<s>\").strip(\"</s>\")\n",
    "    return x"
   ]
  },
  {
   "cell_type": "code",
   "execution_count": 3,
   "metadata": {},
   "outputs": [],
   "source": [
    "tokenizer = AutoTokenizer.from_pretrained(\"roberta-base\")"
   ]
  },
  {
   "cell_type": "code",
   "execution_count": 4,
   "metadata": {},
   "outputs": [],
   "source": [
    "# temperatures = (np.arange(5) + 1) / 5.0\n",
    "temperatures = (np.arange(10) + 1) / 10.0"
   ]
  },
  {
   "cell_type": "code",
   "execution_count": 5,
   "metadata": {},
   "outputs": [],
   "source": [
    "def compute_bleu(inputs, n=2):\n",
    "    if n==3:\n",
    "        weights=(0.333, 0.333, 0.333, 0) \n",
    "    elif n==2:\n",
    "        weights=(0.5, 0.5, 0.0, 0)\n",
    "    elif n==4:\n",
    "        weights=(0.25, 0.25, 0.25, 0.25)\n",
    "    else:\n",
    "        assert False\n",
    "\n",
    "    scores = []\n",
    "    \n",
    "    for item in inputs:\n",
    "        ref = nltk.word_tokenize(item[0].lower())\n",
    "        hyp = nltk.word_tokenize(item[1].lower())\n",
    "        \n",
    "        score = sentence_bleu([ref], hyp, weights=weights)\n",
    "        scores.append(score)\n",
    "    return np.mean(scores)"
   ]
  },
  {
   "cell_type": "code",
   "execution_count": 6,
   "metadata": {},
   "outputs": [],
   "source": [
    "def compute_distinct(inputs, n=4):\n",
    "    counter = collections.Counter()\n",
    "    total_count = 0\n",
    "    \n",
    "    for item in inputs:\n",
    "        hyp = nltk.word_tokenize(item[1].lower())\n",
    "        n_grams = list(ngrams(hyp, n=n))   \n",
    "        counter.update(n_grams)\n",
    "        total_count += len(n_grams)\n",
    "    return len(counter) / total_count"
   ]
  },
  {
   "cell_type": "code",
   "execution_count": 7,
   "metadata": {},
   "outputs": [],
   "source": [
    "def compute_unique(inputs, n=4):\n",
    "    counter = collections.Counter()\n",
    "    \n",
    "    for item in inputs:\n",
    "        tokens = nltk.word_tokenize(item[1].lower())\n",
    "        n_grams = ngrams(tokens, n=n)   \n",
    "        counter.update(n_grams)\n",
    "    return len(counter)"
   ]
  },
  {
   "cell_type": "code",
   "execution_count": 8,
   "metadata": {},
   "outputs": [],
   "source": [
    "def get_human_n_grams(inputs, n=4):\n",
    "    human_n_grams = collections.Counter()\n",
    "\n",
    "    for item in tqdm.tqdm(inputs):\n",
    "        list_n_grams = ngrams(nltk.word_tokenize(item.lower()), n=n)\n",
    "        human_n_grams.update(list_n_grams)\n",
    "        \n",
    "    human_n_grams = {k:v for k,v in human_n_grams.items() if v > 1}\n",
    "    return human_n_grams"
   ]
  },
  {
   "cell_type": "code",
   "execution_count": 9,
   "metadata": {},
   "outputs": [],
   "source": [
    "def compute_sentence_repeat(inputs, human_n_grams, n=4):\n",
    "    scores = []\n",
    "    for item in inputs:\n",
    "        count = 0\n",
    "        tokens = nltk.word_tokenize(item[1].lower())\n",
    "        n_grams = list(ngrams(tokens, n=n))\n",
    "        for n_gram in n_grams:\n",
    "            if n_gram in human_n_grams:\n",
    "                count += 1\n",
    "        if len(n_grams) == 0:\n",
    "            scores.append(0)\n",
    "        else:\n",
    "            scores.append(count/len(n_grams))\n",
    "\n",
    "    return np.mean(scores)"
   ]
  },
  {
   "cell_type": "code",
   "execution_count": 10,
   "metadata": {},
   "outputs": [],
   "source": [
    "task_name = \"CommonGEN\"\n",
    "random_seed = \"1\""
   ]
  },
  {
   "cell_type": "code",
   "execution_count": 11,
   "metadata": {},
   "outputs": [],
   "source": [
    "with open(f\"../../data/{task_name}/train.jsonl\") as f:\n",
    "    train_human_data = f.readlines()\n",
    "    train_human_data = [json.loads(item)['target'] for item in train_human_data]"
   ]
  },
  {
   "cell_type": "code",
   "execution_count": 12,
   "metadata": {},
   "outputs": [],
   "source": [
    "with open(f\"../../data/{task_name}/test.jsonl\") as f:\n",
    "    test_human_data = f.readlines()\n",
    "    test_human_data = [json.loads(item)['target'] for item in test_human_data]"
   ]
  },
  {
   "cell_type": "code",
   "execution_count": 13,
   "metadata": {},
   "outputs": [],
   "source": [
    "method = \"mle\"\n",
    "mle = []\n",
    "\n",
    "for temperature in temperatures:\n",
    "    with open(f\"{task_name}/{method}_{temperature}_{random_seed}.txt\") as f:\n",
    "        data = f.readlines()\n",
    "        data = [json.loads(item) for item in data]\n",
    "\n",
    "    mle.append(compute_unique(data, n=2))\n",
    "\n",
    "method = \"textgail\"\n",
    "textgail = []\n",
    "\n",
    "for temperature in temperatures:\n",
    "    with open(f\"{task_name}/{method}_{temperature}_{random_seed}.txt\") as f:\n",
    "        data = f.readlines()\n",
    "        data = [json.loads(item) for item in data]\n",
    "\n",
    "    textgail.append(compute_unique(data, n=2))"
   ]
  },
  {
   "cell_type": "code",
   "execution_count": 14,
   "metadata": {},
   "outputs": [],
   "source": [
    "human = compute_unique([(item[0], item[1]) for item in data], n=2)"
   ]
  },
  {
   "cell_type": "code",
   "execution_count": 15,
   "metadata": {},
   "outputs": [
    {
     "data": {
      "text/plain": [
       "Text(0, 0.5, 'Unique 2-grams')"
      ]
     },
     "execution_count": 15,
     "metadata": {},
     "output_type": "execute_result"
    },
    {
     "data": {
      "image/png": "[encoded data removed]",
      "text/plain": [
       "<Figure size 432x288 with 1 Axes>"
      ]
     },
     "metadata": {
      "needs_background": "light"
     },
     "output_type": "display_data"
    }
   ],
   "source": [
    "plt.plot(temperatures, [human] * len(mle))\n",
    "plt.plot(temperatures, mle)\n",
    "plt.plot(temperatures, textgail)\n",
    "plt.legend([\"human\", \"MLE\", \"TextGAIL\"])\n",
    "plt.xlabel(\"temperature\")\n",
    "plt.ylabel(\"Unique 2-grams\")\n",
    "# plt.savefig(\"unique2.png\", dpi=300)"
   ]
  },
  {
   "cell_type": "code",
   "execution_count": 16,
   "metadata": {},
   "outputs": [],
   "source": [
    "if task_name == \"ROCStories\":\n",
    "    n = 2\n",
    "else:\n",
    "    n = 2"
   ]
  },
  {
   "cell_type": "code",
   "execution_count": 40,
   "metadata": {},
   "outputs": [
    {
     "name": "stdout",
     "output_type": "stream",
     "text": [
      "[0.14193756286984544, 0.140272355476338, 0.13528868236298675, 0.13487016223672604, 0.12809270543294896, 0.1190934169723697, 0.1175213290801326, 0.09163583780031483, 0.06864390779767565, 0.04742162163850224]\n",
      "[0.10805746398766942, 0.09731913036640838, 0.04768882118016013, 0.013323675332936349, 0.0034618193696996005, 0.0013584677908225784, 0.000309922397833472, 0.00012166404182752561, 2.382476309931951e-05, 2.8371892425536168e-06]\n"
     ]
    }
   ],
   "source": [
    "method = \"mle\"\n",
    "mle = []\n",
    "for temperature in temperatures:\n",
    "    with open(f\"{task_name}/{method}_{temperature}_{random_seed}.txt\") as f:\n",
    "        data = f.readlines()\n",
    "        data = [json.loads(item) for item in data]\n",
    "        \n",
    "    mle.append(compute_bleu(data, n=n))\n",
    "\n",
    "print(mle)\n",
    "    \n",
    "method = \"textgail\"\n",
    "textgail = []\n",
    "for temperature in temperatures:\n",
    "    with open(f\"{task_name}/{method}_{temperature}_{random_seed}.txt\") as f:\n",
    "        data = f.readlines()\n",
    "        data = [json.loads(item) for item in data]\n",
    "        \n",
    "    textgail.append(compute_bleu(data, n=n))\n",
    "\n",
    "print(textgail)"
   ]
  },
  {
   "cell_type": "code",
   "execution_count": 18,
   "metadata": {},
   "outputs": [
    {
     "data": {
      "image/png": "[encoded data removed]",
      "text/plain": [
       "<Figure size 432x288 with 1 Axes>"
      ]
     },
     "metadata": {
      "needs_background": "light"
     },
     "output_type": "display_data"
    }
   ],
   "source": [
    "plt.plot(temperatures, mle)\n",
    "plt.plot(temperatures, textgail)\n",
    "plt.legend([\"MLE\", \"TextGAIL\"])\n",
    "plt.xlabel(\"temperature\")\n",
    "plt.ylabel(f\"BLEU-{n}\")\n",
    "plt.savefig(f\"bleu{n}.png\", dpi=300)"
   ]
  },
  {
   "cell_type": "code",
   "execution_count": 41,
   "metadata": {},
   "outputs": [],
   "source": [
    "with open(f\"{task_name}/Quality-Diversity/mle_bleu.txt\", \"w\") as f:\n",
    "    line = json.dumps(mle)\n",
    "    f.write(line)\n",
    "    f.write(\"\\n\")"
   ]
  },
  {
   "cell_type": "code",
   "execution_count": 42,
   "metadata": {},
   "outputs": [],
   "source": [
    "with open(f\"{task_name}/Quality-Diversity/textgail_bleu.txt\", \"w\") as f:\n",
    "    line = json.dumps(textgail)\n",
    "    f.write(line)\n",
    "    f.write(\"\\n\")"
   ]
  },
  {
   "cell_type": "code",
   "execution_count": 19,
   "metadata": {},
   "outputs": [],
   "source": [
    "n = 2"
   ]
  },
  {
   "cell_type": "code",
   "execution_count": 20,
   "metadata": {},
   "outputs": [
    {
     "name": "stderr",
     "output_type": "stream",
     "text": [
      "100%|██████████| 39069/39069 [00:03<00:00, 12618.68it/s]\n"
     ]
    }
   ],
   "source": [
    "human_n_grams = get_human_n_grams(train_human_data[:40000], n=n)"
   ]
  },
  {
   "cell_type": "code",
   "execution_count": 21,
   "metadata": {},
   "outputs": [
    {
     "name": "stdout",
     "output_type": "stream",
     "text": [
      "[0.5680000121876699, 0.5695105252609203, 0.5747963896403699, 0.5760409042890386, 0.569320007162178, 0.5617964840853292, 0.5405399045145244, 0.5051803506693652, 0.44677815991071096, 0.3830880518727275]\n",
      "[0.6952979205535555, 0.658528994064015, 0.2715924320921751, 0.0728676740268851, 0.021301716028979022, 0.007592815931348529, 0.0020634768441010077, 0.0007674483157654193, 0.0004204017169470413, 0.0002603116432595906]\n"
     ]
    }
   ],
   "source": [
    "method = \"mle\"\n",
    "mle = []\n",
    "\n",
    "for temperature in temperatures:\n",
    "    with open(f\"{task_name}/{method}_{temperature}_{random_seed}.txt\") as f:\n",
    "        data = f.readlines()\n",
    "        data = [json.loads(item) for item in data]\n",
    "\n",
    "    mle.append(compute_sentence_repeat(data, human_n_grams, n=n))\n",
    "\n",
    "method = \"textgail\"\n",
    "textgail = []\n",
    "\n",
    "for temperature in temperatures:\n",
    "    with open(f\"{task_name}/{method}_{temperature}_{random_seed}.txt\") as f:\n",
    "        data = f.readlines()\n",
    "        data = [json.loads(item) for item in data]\n",
    "\n",
    "    textgail.append(compute_sentence_repeat(data, human_n_grams, n=n))\n",
    "\n",
    "print(mle)\n",
    "print(textgail)"
   ]
  },
  {
   "cell_type": "code",
   "execution_count": 22,
   "metadata": {},
   "outputs": [],
   "source": [
    "human = compute_sentence_repeat(zip(test_human_data, test_human_data), human_n_grams, n=2)"
   ]
  },
  {
   "cell_type": "code",
   "execution_count": 23,
   "metadata": {},
   "outputs": [
    {
     "data": {
      "image/png": "[encoded data removed]",
      "text/plain": [
       "<Figure size 432x288 with 1 Axes>"
      ]
     },
     "metadata": {
      "needs_background": "light"
     },
     "output_type": "display_data"
    }
   ],
   "source": [
    "plt.plot(temperatures, [human] * len(mle))\n",
    "plt.plot(temperatures, mle)\n",
    "plt.plot(temperatures, textgail)\n",
    "plt.legend([\"human\", \"MLE\", \"TextGAIL\"])\n",
    "plt.xlabel(\"temperature\")\n",
    "plt.ylabel(f\"Sentence Repeat {n}-grams\")\n",
    "plt.savefig(\"seprep2.png\", dpi=300)"
   ]
  },
  {
   "cell_type": "markdown",
   "metadata": {},
   "source": [
    "## Distinct-1/2"
   ]
  },
  {
   "cell_type": "code",
   "execution_count": 43,
   "metadata": {},
   "outputs": [
    {
     "name": "stdout",
     "output_type": "stream",
     "text": [
      "[0.1157812930071402, 0.14234626700694095, 0.16386751205975833, 0.1833692256362037, 0.2041795531404457, 0.22281866862662747, 0.2950122035171162, 0.28446692870996526, 0.3372873546603547, 0.4151184121160572]\n",
      "[0.06094934594330652, 0.09137222370634909, 0.8115183246073299, 0.9414056261699371, 0.9585417482562549, 0.9642989913615152, 0.9659607190396582, 0.9658585794899278, 0.9668867108047894, 0.9670166988108275]\n"
     ]
    }
   ],
   "source": [
    "n = 2\n",
    "\n",
    "method = \"mle\"\n",
    "mle = []\n",
    "\n",
    "for temperature in temperatures:\n",
    "    with open(f\"{task_name}/{method}_{temperature}_{random_seed}.txt\") as f:\n",
    "        data = f.readlines()\n",
    "        data = [json.loads(item) for item in data]\n",
    "\n",
    "    mle.append(compute_distinct(data, n=n))\n",
    "print(mle)\n",
    "\n",
    "method = \"textgail\"\n",
    "textgail = []\n",
    "\n",
    "for temperature in temperatures:\n",
    "    with open(f\"{task_name}/{method}_{temperature}_{random_seed}.txt\") as f:\n",
    "        data = f.readlines()\n",
    "        data = [json.loads(item) for item in data]\n",
    "\n",
    "    textgail.append(compute_distinct(data, n=n))\n",
    "print(textgail)"
   ]
  },
  {
   "cell_type": "code",
   "execution_count": 25,
   "metadata": {},
   "outputs": [],
   "source": [
    "human = compute_distinct([(item[0], item[0]) for item in data], n=n)"
   ]
  },
  {
   "cell_type": "code",
   "execution_count": 26,
   "metadata": {},
   "outputs": [
    {
     "data": {
      "image/png": "[encoded data removed]",
      "text/plain": [
       "<Figure size 432x288 with 1 Axes>"
      ]
     },
     "metadata": {
      "needs_background": "light"
     },
     "output_type": "display_data"
    }
   ],
   "source": [
    "plt.plot(temperatures, [human] * len(mle))\n",
    "plt.plot(temperatures, mle)\n",
    "plt.plot(temperatures, textgail)\n",
    "plt.legend([\"human\", \"MLE\", \"TextGAIL\"])\n",
    "plt.xlabel(\"temperature\")\n",
    "plt.ylabel(f\"Distinct {n}-grams\")\n",
    "plt.savefig(f\"{task_name}distinct-{n}.png\", dpi=300)"
   ]
  },
  {
   "cell_type": "code",
   "execution_count": 44,
   "metadata": {},
   "outputs": [],
   "source": [
    "with open(f\"{task_name}/Quality-Diversity/mle_distinct.txt\", \"w\") as f:\n",
    "    line = json.dumps(mle)\n",
    "    f.write(line)\n",
    "    f.write(\"\\n\")"
   ]
  },
  {
   "cell_type": "code",
   "execution_count": 45,
   "metadata": {},
   "outputs": [],
   "source": [
    "with open(f\"{task_name}/Quality-Diversity/textgail_distinct.txt\", \"w\") as f:\n",
    "    line = json.dumps(textgail)\n",
    "    f.write(line)\n",
    "    f.write(\"\\n\")"
   ]
  },
  {
   "cell_type": "markdown",
   "metadata": {},
   "source": [
    "## Beam-Search"
   ]
  },
  {
   "cell_type": "code",
   "execution_count": 27,
   "metadata": {},
   "outputs": [],
   "source": [
    "if task_name == \"ROCStories\":\n",
    "    n = 2\n",
    "else:\n",
    "    n = 2"
   ]
  },
  {
   "cell_type": "code",
   "execution_count": null,
   "metadata": {},
   "outputs": [],
   "source": []
  },
  {
   "cell_type": "code",
   "execution_count": 28,
   "metadata": {},
   "outputs": [
    {
     "ename": "FileNotFoundError",
     "evalue": "[Errno 2] No such file or directory: 'CommonGEN/textgail_beam_4.txt'",
     "output_type": "error",
     "traceback": [
      "\u001b[0;31m---------------------------------------------------------------------------\u001b[0m",
      "\u001b[0;31mFileNotFoundError\u001b[0m                         Traceback (most recent call last)",
      "\u001b[0;32m/tmp/ipykernel_18618/4173293425.py\u001b[0m in \u001b[0;36m<module>\u001b[0;34m\u001b[0m\n\u001b[1;32m      1\u001b[0m \u001b[0mmethod\u001b[0m \u001b[0;34m=\u001b[0m \u001b[0;34m\"textgail\"\u001b[0m\u001b[0;34m\u001b[0m\u001b[0;34m\u001b[0m\u001b[0m\n\u001b[1;32m      2\u001b[0m \u001b[0;34m\u001b[0m\u001b[0m\n\u001b[0;32m----> 3\u001b[0;31m \u001b[0;32mwith\u001b[0m \u001b[0mopen\u001b[0m\u001b[0;34m(\u001b[0m\u001b[0;34mf\"{task_name}/{method}_beam_4.txt\"\u001b[0m\u001b[0;34m)\u001b[0m \u001b[0;32mas\u001b[0m \u001b[0mf\u001b[0m\u001b[0;34m:\u001b[0m\u001b[0;34m\u001b[0m\u001b[0;34m\u001b[0m\u001b[0m\n\u001b[0m\u001b[1;32m      4\u001b[0m     \u001b[0mdata\u001b[0m \u001b[0;34m=\u001b[0m \u001b[0mf\u001b[0m\u001b[0;34m.\u001b[0m\u001b[0mreadlines\u001b[0m\u001b[0;34m(\u001b[0m\u001b[0;34m)\u001b[0m\u001b[0;34m\u001b[0m\u001b[0;34m\u001b[0m\u001b[0m\n\u001b[1;32m      5\u001b[0m     \u001b[0mdata\u001b[0m \u001b[0;34m=\u001b[0m \u001b[0;34m[\u001b[0m\u001b[0mjson\u001b[0m\u001b[0;34m.\u001b[0m\u001b[0mloads\u001b[0m\u001b[0;34m(\u001b[0m\u001b[0mitem\u001b[0m\u001b[0;34m)\u001b[0m \u001b[0;32mfor\u001b[0m \u001b[0mitem\u001b[0m \u001b[0;32min\u001b[0m \u001b[0mdata\u001b[0m\u001b[0;34m]\u001b[0m\u001b[0;34m\u001b[0m\u001b[0;34m\u001b[0m\u001b[0m\n",
      "\u001b[0;31mFileNotFoundError\u001b[0m: [Errno 2] No such file or directory: 'CommonGEN/textgail_beam_4.txt'"
     ]
    }
   ],
   "source": [
    "method = \"textgail\"\n",
    "\n",
    "with open(f\"{task_name}/{method}_beam_4.txt\") as f:\n",
    "    data = f.readlines()\n",
    "    data = [json.loads(item) for item in data]\n",
    "\n",
    "print(compute_bleu(data, n=n))"
   ]
  },
  {
   "cell_type": "code",
   "execution_count": null,
   "metadata": {},
   "outputs": [
    {
     "name": "stdout",
     "output_type": "stream",
     "text": [
      "3840\n"
     ]
    }
   ],
   "source": [
    "print(compute_unique(data, n=2))"
   ]
  },
  {
   "cell_type": "code",
   "execution_count": null,
   "metadata": {},
   "outputs": [
    {
     "data": {
      "text/plain": [
       "0.6980312197852808"
      ]
     },
     "execution_count": 308,
     "metadata": {},
     "output_type": "execute_result"
    }
   ],
   "source": [
    "compute_sentence_repeat(data, human_n_grams, n=2)"
   ]
  },
  {
   "cell_type": "code",
   "execution_count": null,
   "metadata": {},
   "outputs": [
    {
     "data": {
      "text/plain": [
       "0.09516492775891551"
      ]
     },
     "execution_count": 309,
     "metadata": {},
     "output_type": "execute_result"
    }
   ],
   "source": [
    "compute_distinct(data, n=n)"
   ]
  },
  {
   "cell_type": "code",
   "execution_count": null,
   "metadata": {},
   "outputs": [],
   "source": [
    "filename = f\"CommonGEN/textgail_reinforce2_beam_4.txt\"\n",
    "filename = f\"/home/wuqy1203/Desktop/WorkingProjects/TextGAIL/Conditional/Evaluation/CommonGEN/2mle_beam_4.txt\""
   ]
  },
  {
   "cell_type": "code",
   "execution_count": null,
   "metadata": {},
   "outputs": [
    {
     "name": "stderr",
     "output_type": "stream",
     "text": [
      "/home/wuqy1203/anaconda3/lib/python3.8/site-packages/nltk/translate/bleu_score.py:516: UserWarning: \n",
      "The hypothesis contains 0 counts of 3-gram overlaps.\n",
      "Therefore the BLEU score evaluates to 0, independently of\n",
      "how many N-gram overlaps of lower order it contains.\n",
      "Consider using lower n-gram order or use SmoothingFunction()\n",
      "  warnings.warn(_msg)\n",
      "/home/wuqy1203/anaconda3/lib/python3.8/site-packages/nltk/translate/bleu_score.py:516: UserWarning: \n",
      "The hypothesis contains 0 counts of 4-gram overlaps.\n",
      "Therefore the BLEU score evaluates to 0, independently of\n",
      "how many N-gram overlaps of lower order it contains.\n",
      "Consider using lower n-gram order or use SmoothingFunction()\n",
      "  warnings.warn(_msg)\n",
      "/home/wuqy1203/anaconda3/lib/python3.8/site-packages/nltk/translate/bleu_score.py:516: UserWarning: \n",
      "The hypothesis contains 0 counts of 2-gram overlaps.\n",
      "Therefore the BLEU score evaluates to 0, independently of\n",
      "how many N-gram overlaps of lower order it contains.\n",
      "Consider using lower n-gram order or use SmoothingFunction()\n",
      "  warnings.warn(_msg)\n"
     ]
    },
    {
     "name": "stdout",
     "output_type": "stream",
     "text": [
      "0.16069196474763123\n"
     ]
    }
   ],
   "source": [
    "method = \"textgail\"\n",
    "with open(filename) as f:\n",
    "    data = f.readlines()\n",
    "    data = [json.loads(item) for item in data]\n",
    "\n",
    "print(compute_bleu(data, n=n))"
   ]
  },
  {
   "cell_type": "code",
   "execution_count": null,
   "metadata": {},
   "outputs": [
    {
     "data": {
      "text/plain": [
       "0.0003150976802808871"
      ]
     },
     "execution_count": 359,
     "metadata": {},
     "output_type": "execute_result"
    }
   ],
   "source": [
    "compute_distinct([data[0] if np.random.rand() > 0.5 else data[-1] for item in data], n=2)"
   ]
  },
  {
   "cell_type": "code",
   "execution_count": null,
   "metadata": {},
   "outputs": [
    {
     "data": {
      "text/plain": [
       "0.7047190882566753"
      ]
     },
     "execution_count": 346,
     "metadata": {},
     "output_type": "execute_result"
    }
   ],
   "source": [
    "compute_sentence_repeat(data, human_n_grams, n=2)"
   ]
  },
  {
   "cell_type": "code",
   "execution_count": null,
   "metadata": {},
   "outputs": [
    {
     "data": {
      "text/plain": [
       "0.08391033320473512"
      ]
     },
     "execution_count": 347,
     "metadata": {},
     "output_type": "execute_result"
    }
   ],
   "source": [
    "0.16782066640947024 / 2"
   ]
  },
  {
   "cell_type": "code",
   "execution_count": null,
   "metadata": {},
   "outputs": [],
   "source": [
    "def compute_distinct(inputs, n=4):\n",
    "    counter = collections.Counter()\n",
    "    total_count = 0\n",
    "    \n",
    "    for item in inputs:\n",
    "        hyp = nltk.word_tokenize(item[1].lower())\n",
    "        n_grams = list(ngrams(hyp, n=n))   \n",
    "        counter.update(n_grams)\n",
    "        total_count += len(n_grams)\n",
    "        \n",
    "    return len(counter) / total_count"
   ]
  },
  {
   "cell_type": "code",
   "execution_count": null,
   "metadata": {},
   "outputs": [],
   "source": []
  },
  {
   "cell_type": "code",
   "execution_count": null,
   "metadata": {},
   "outputs": [],
   "source": []
  }
 ],
 "metadata": {
  "kernelspec": {
   "display_name": "Python 3",
   "language": "python",
   "name": "python3"
  },
  "language_info": {
   "codemirror_mode": {
    "name": "ipython",
    "version": 3
   },
   "file_extension": ".py",
   "mimetype": "text/x-python",
   "name": "python",
   "nbconvert_exporter": "python",
   "pygments_lexer": "ipython3",
   "version": "3.7.11"
  }
 },
 "nbformat": 4,
 "nbformat_minor": 4
}
