{
 "cells": [
  {
   "cell_type": "code",
   "execution_count": 1,
   "metadata": {},
   "outputs": [],
   "source": [
    "import os\n",
    "import json"
   ]
  },
  {
   "cell_type": "code",
   "execution_count": 2,
   "metadata": {},
   "outputs": [],
   "source": [
    "with open(\"final_data/commongen.train.jsonl\") as f:\n",
    "    train_data = f.readlines()\n",
    "    \n",
    "with open(\"final_data/commongen.test.jsonl\") as f:\n",
    "    test_data = f.readlines()\n",
    "    \n",
    "with open(\"final_data/commongen.dev.jsonl\") as f:\n",
    "    val_data = f.readlines()"
   ]
  },
  {
   "cell_type": "code",
   "execution_count": 3,
   "metadata": {},
   "outputs": [],
   "source": [
    "def extract(data):\n",
    "    new_data = []\n",
    "    for item in data:\n",
    "        item = json.loads(item)\n",
    "        for scene in item[\"scene\"]:\n",
    "            new_item = {\n",
    "                \"source\": item[\"concept_set\"],\n",
    "                \"target\": scene\n",
    "            }\n",
    "\n",
    "            new_data.append(new_item)\n",
    "            \n",
    "    return new_data"
   ]
  },
  {
   "cell_type": "code",
   "execution_count": 4,
   "metadata": {},
   "outputs": [],
   "source": [
    "train_data = extract(train_data)\n",
    "val_data = extract(val_data)\n",
    "test_data = extract(test_data)"
   ]
  },
  {
   "cell_type": "code",
   "execution_count": 5,
   "metadata": {},
   "outputs": [],
   "source": [
    "with open(\"train.jsonl\", \"w\") as f:\n",
    "    for line in train_data:\n",
    "        line = json.dumps(line)\n",
    "        f.write(line)\n",
    "        f.write(\"\\n\")"
   ]
  },
  {
   "cell_type": "code",
   "execution_count": 6,
   "metadata": {},
   "outputs": [],
   "source": [
    "with open(\"val.jsonl\", \"w\") as f:\n",
    "    for line in val_data:\n",
    "        line = json.dumps(line)\n",
    "        f.write(line)\n",
    "        f.write(\"\\n\")"
   ]
  },
  {
   "cell_type": "code",
   "execution_count": 7,
   "metadata": {},
   "outputs": [],
   "source": [
    "with open(\"test.jsonl\", \"w\") as f:\n",
    "    for line in test_data:\n",
    "        line = json.dumps(line)\n",
    "        f.write(line)\n",
    "        f.write(\"\\n\")"
   ]
  },
  {
   "cell_type": "code",
   "execution_count": null,
   "metadata": {},
   "outputs": [],
   "source": []
  }
 ],
 "metadata": {
  "kernelspec": {
   "display_name": "Python 3.7.4 64-bit ('base': conda)",
   "language": "python",
   "name": "python37464bitbaseconda2c389d1998144387b42705ad1fa3874e"
  },
  "language_info": {
   "codemirror_mode": {
    "name": "ipython",
    "version": 3
   },
   "file_extension": ".py",
   "mimetype": "text/x-python",
   "name": "python",
   "nbconvert_exporter": "python",
   "pygments_lexer": "ipython3",
   "version": "3.7.4"
  }
 },
 "nbformat": 4,
 "nbformat_minor": 4
}
